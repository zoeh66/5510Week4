{
  "nbformat": 4,
  "nbformat_minor": 0,
  "metadata": {
    "colab": {
      "provenance": []
    },
    "kernelspec": {
      "name": "python3",
      "display_name": "Python 3"
    },
    "language_info": {
      "name": "python"
    }
  },
  "cells": [
    {
      "cell_type": "markdown",
      "source": [
        "# Recommender Systems with NMF Mini-Project"
      ],
      "metadata": {
        "id": "xTLgWr_bmvVp"
      }
    },
    {
      "cell_type": "markdown",
      "source": [
        "### 1. Load the movie ratings data (as in the HW3-recommender-system) and use matrix factorization technique(s) and predict the missing ratings from the test data. Measure the RMSE. You should use sklearn library."
      ],
      "metadata": {
        "id": "LaZzUzOVsboC"
      }
    },
    {
      "cell_type": "code",
      "execution_count": 1,
      "metadata": {
        "id": "-yJDVWnYlq9l"
      },
      "outputs": [],
      "source": [
        "# Import libraries\n",
        "import pandas as pd\n",
        "import numpy as np\n",
        "from sklearn.decomposition import NMF\n",
        "from sklearn.metrics import mean_squared_error\n",
        "from scipy.sparse import coo_matrix"
      ]
    },
    {
      "cell_type": "code",
      "source": [
        "# Load data\n",
        "MV_users = pd.read_csv('users.csv')\n",
        "MV_movies = pd.read_csv('movies.csv')\n",
        "train = pd.read_csv('train.csv')\n",
        "test = pd.read_csv('test.csv')\n",
        "\n",
        "# Create dataset\n",
        "from collections import namedtuple\n",
        "Data = namedtuple('Data', ['users','movies','train','test'])\n",
        "data = Data(MV_users, MV_movies, train, test)"
      ],
      "metadata": {
        "id": "H6oCHq0WmMPf"
      },
      "execution_count": 2,
      "outputs": []
    },
    {
      "cell_type": "code",
      "source": [
        "# Create matrix\n",
        "allusers = list(data.users['uID'])\n",
        "allmovies = list(data.movies['mID'])\n",
        "mid2idx = dict(zip(data.movies.mID,list(range(len(data.movies)))))\n",
        "uid2idx = dict(zip(data.users.uID,list(range(len(data.users)))))\n",
        "\n",
        "ind_movie = [mid2idx[x] for x in data.train.mID]\n",
        "ind_user = [uid2idx[x] for x in data.train.uID]\n",
        "rating_train = list(data.train.rating)\n",
        "\n",
        "rating_matrix = np.array(coo_matrix((rating_train, (ind_user, ind_movie)), shape=(len(allusers), len(allmovies))).toarray())\n",
        "rating_df = pd.DataFrame(rating_matrix, columns=allmovies, index=allusers)"
      ],
      "metadata": {
        "id": "3N82pMAB8pHW"
      },
      "execution_count": 3,
      "outputs": []
    },
    {
      "cell_type": "code",
      "source": [
        "# Train model and calculate RMSE\n",
        "nmf_model = NMF(n_components=6, random_state=10)\n",
        "nmf_model.fit(rating_df)\n",
        "\n",
        "W = nmf_model.transform(rating_df)\n",
        "H = nmf_model.components_\n",
        "\n",
        "V = np.dot(W, H)\n",
        "np.sqrt(mean_squared_error(rating_df, V))"
      ],
      "metadata": {
        "colab": {
          "base_uri": "https://localhost:8080/"
        },
        "id": "h1Gc7SuYA4Sl",
        "outputId": "5c0faa0f-b0a3-4211-8f33-6d3745a2972e"
      },
      "execution_count": 4,
      "outputs": [
        {
          "output_type": "execute_result",
          "data": {
            "text/plain": [
              "0.5644786056624103"
            ]
          },
          "metadata": {},
          "execution_count": 4
        }
      ]
    },
    {
      "cell_type": "code",
      "source": [
        "# Predict test data and calculate RMSE\n",
        "test_user_idx = data.test.uID\n",
        "test_movie_idx = data.test.mID\n",
        "mtx_user_idx = [uid2idx[i] for i in test_user_idx]\n",
        "mtx_movie_idx = [mid2idx[i] for i in test_movie_idx]\n",
        "\n",
        "predictions = [V[user, movie] for user, movie in zip(mtx_user_idx, mtx_movie_idx)]\n",
        "np.sqrt(mean_squared_error(data.test.rating, predictions))"
      ],
      "metadata": {
        "colab": {
          "base_uri": "https://localhost:8080/"
        },
        "id": "OcfMeUwBCJ4j",
        "outputId": "bc3e6b69-8926-4b2f-b2fb-eab967f18bc0"
      },
      "execution_count": 5,
      "outputs": [
        {
          "output_type": "execute_result",
          "data": {
            "text/plain": [
              "2.973667312351122"
            ]
          },
          "metadata": {},
          "execution_count": 5
        }
      ]
    },
    {
      "cell_type": "markdown",
      "source": [
        "### 2. Discuss the results and why they did not work well compared to simple baseline or similarity-based methods we’ve done in Module 3. Can you suggest a way(s) to fix it?\n",
        "\n",
        "The training data does have a decently low root mean square error (RMSE) of 0.564. However, when predicting the test dataset, the RMSE jumps to a high value of 2.974. This is a likely indicator of overfitting, which is a downside to using non-negative matrix factorization (NMF) for this example because of the sparsity of the initial ratings matrix. Using other dimension reduction techniques or feature engineering in tandem with NMF could potentially combat this overfitting. Another problem is because of the sparsity and size of the matrix, the model building process is very inefficient, so another method would likely produce better results in a faster time."
      ],
      "metadata": {
        "id": "B1njpSpgsdRJ"
      }
    }
  ]
}